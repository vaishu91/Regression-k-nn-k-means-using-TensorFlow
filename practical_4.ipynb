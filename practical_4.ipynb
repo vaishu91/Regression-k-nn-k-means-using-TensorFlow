{
  "nbformat": 4,
  "nbformat_minor": 0,
  "metadata": {
    "colab": {
      "provenance": []
    },
    "kernelspec": {
      "name": "python3",
      "display_name": "Python 3"
    },
    "language_info": {
      "name": "python"
    }
  },
  "cells": [
    {
      "cell_type": "code",
      "execution_count": null,
      "metadata": {
        "colab": {
          "base_uri": "https://localhost:8080/"
        },
        "id": "PPFGwPmv5zlj",
        "outputId": "b83a353e-f095-470b-c490-1cfbcf0d4e92"
      },
      "outputs": [
        {
          "output_type": "stream",
          "name": "stdout",
          "text": [
            "Requirement already satisfied: tensorflow in /usr/local/lib/python3.10/dist-packages (2.14.0)\n",
            "Requirement already satisfied: absl-py>=1.0.0 in /usr/local/lib/python3.10/dist-packages (from tensorflow) (1.4.0)\n",
            "Requirement already satisfied: astunparse>=1.6.0 in /usr/local/lib/python3.10/dist-packages (from tensorflow) (1.6.3)\n",
            "Requirement already satisfied: flatbuffers>=23.5.26 in /usr/local/lib/python3.10/dist-packages (from tensorflow) (23.5.26)\n",
            "Requirement already satisfied: gast!=0.5.0,!=0.5.1,!=0.5.2,>=0.2.1 in /usr/local/lib/python3.10/dist-packages (from tensorflow) (0.5.4)\n",
            "Requirement already satisfied: google-pasta>=0.1.1 in /usr/local/lib/python3.10/dist-packages (from tensorflow) (0.2.0)\n",
            "Requirement already satisfied: h5py>=2.9.0 in /usr/local/lib/python3.10/dist-packages (from tensorflow) (3.9.0)\n",
            "Requirement already satisfied: libclang>=13.0.0 in /usr/local/lib/python3.10/dist-packages (from tensorflow) (16.0.6)\n",
            "Requirement already satisfied: ml-dtypes==0.2.0 in /usr/local/lib/python3.10/dist-packages (from tensorflow) (0.2.0)\n",
            "Requirement already satisfied: numpy>=1.23.5 in /usr/local/lib/python3.10/dist-packages (from tensorflow) (1.23.5)\n",
            "Requirement already satisfied: opt-einsum>=2.3.2 in /usr/local/lib/python3.10/dist-packages (from tensorflow) (3.3.0)\n",
            "Requirement already satisfied: packaging in /usr/local/lib/python3.10/dist-packages (from tensorflow) (23.2)\n",
            "Requirement already satisfied: protobuf!=4.21.0,!=4.21.1,!=4.21.2,!=4.21.3,!=4.21.4,!=4.21.5,<5.0.0dev,>=3.20.3 in /usr/local/lib/python3.10/dist-packages (from tensorflow) (3.20.3)\n",
            "Requirement already satisfied: setuptools in /usr/local/lib/python3.10/dist-packages (from tensorflow) (67.7.2)\n",
            "Requirement already satisfied: six>=1.12.0 in /usr/local/lib/python3.10/dist-packages (from tensorflow) (1.16.0)\n",
            "Requirement already satisfied: termcolor>=1.1.0 in /usr/local/lib/python3.10/dist-packages (from tensorflow) (2.3.0)\n",
            "Requirement already satisfied: typing-extensions>=3.6.6 in /usr/local/lib/python3.10/dist-packages (from tensorflow) (4.5.0)\n",
            "Requirement already satisfied: wrapt<1.15,>=1.11.0 in /usr/local/lib/python3.10/dist-packages (from tensorflow) (1.14.1)\n",
            "Requirement already satisfied: tensorflow-io-gcs-filesystem>=0.23.1 in /usr/local/lib/python3.10/dist-packages (from tensorflow) (0.34.0)\n",
            "Requirement already satisfied: grpcio<2.0,>=1.24.3 in /usr/local/lib/python3.10/dist-packages (from tensorflow) (1.59.2)\n",
            "Requirement already satisfied: tensorboard<2.15,>=2.14 in /usr/local/lib/python3.10/dist-packages (from tensorflow) (2.14.1)\n",
            "Requirement already satisfied: tensorflow-estimator<2.15,>=2.14.0 in /usr/local/lib/python3.10/dist-packages (from tensorflow) (2.14.0)\n",
            "Requirement already satisfied: keras<2.15,>=2.14.0 in /usr/local/lib/python3.10/dist-packages (from tensorflow) (2.14.0)\n",
            "Requirement already satisfied: wheel<1.0,>=0.23.0 in /usr/local/lib/python3.10/dist-packages (from astunparse>=1.6.0->tensorflow) (0.41.3)\n",
            "Requirement already satisfied: google-auth<3,>=1.6.3 in /usr/local/lib/python3.10/dist-packages (from tensorboard<2.15,>=2.14->tensorflow) (2.17.3)\n",
            "Requirement already satisfied: google-auth-oauthlib<1.1,>=0.5 in /usr/local/lib/python3.10/dist-packages (from tensorboard<2.15,>=2.14->tensorflow) (1.0.0)\n",
            "Requirement already satisfied: markdown>=2.6.8 in /usr/local/lib/python3.10/dist-packages (from tensorboard<2.15,>=2.14->tensorflow) (3.5.1)\n",
            "Requirement already satisfied: requests<3,>=2.21.0 in /usr/local/lib/python3.10/dist-packages (from tensorboard<2.15,>=2.14->tensorflow) (2.31.0)\n",
            "Requirement already satisfied: tensorboard-data-server<0.8.0,>=0.7.0 in /usr/local/lib/python3.10/dist-packages (from tensorboard<2.15,>=2.14->tensorflow) (0.7.2)\n",
            "Requirement already satisfied: werkzeug>=1.0.1 in /usr/local/lib/python3.10/dist-packages (from tensorboard<2.15,>=2.14->tensorflow) (3.0.1)\n",
            "Requirement already satisfied: cachetools<6.0,>=2.0.0 in /usr/local/lib/python3.10/dist-packages (from google-auth<3,>=1.6.3->tensorboard<2.15,>=2.14->tensorflow) (5.3.2)\n",
            "Requirement already satisfied: pyasn1-modules>=0.2.1 in /usr/local/lib/python3.10/dist-packages (from google-auth<3,>=1.6.3->tensorboard<2.15,>=2.14->tensorflow) (0.3.0)\n",
            "Requirement already satisfied: rsa<5,>=3.1.4 in /usr/local/lib/python3.10/dist-packages (from google-auth<3,>=1.6.3->tensorboard<2.15,>=2.14->tensorflow) (4.9)\n",
            "Requirement already satisfied: requests-oauthlib>=0.7.0 in /usr/local/lib/python3.10/dist-packages (from google-auth-oauthlib<1.1,>=0.5->tensorboard<2.15,>=2.14->tensorflow) (1.3.1)\n",
            "Requirement already satisfied: charset-normalizer<4,>=2 in /usr/local/lib/python3.10/dist-packages (from requests<3,>=2.21.0->tensorboard<2.15,>=2.14->tensorflow) (3.3.2)\n",
            "Requirement already satisfied: idna<4,>=2.5 in /usr/local/lib/python3.10/dist-packages (from requests<3,>=2.21.0->tensorboard<2.15,>=2.14->tensorflow) (3.4)\n",
            "Requirement already satisfied: urllib3<3,>=1.21.1 in /usr/local/lib/python3.10/dist-packages (from requests<3,>=2.21.0->tensorboard<2.15,>=2.14->tensorflow) (2.0.7)\n",
            "Requirement already satisfied: certifi>=2017.4.17 in /usr/local/lib/python3.10/dist-packages (from requests<3,>=2.21.0->tensorboard<2.15,>=2.14->tensorflow) (2023.7.22)\n",
            "Requirement already satisfied: MarkupSafe>=2.1.1 in /usr/local/lib/python3.10/dist-packages (from werkzeug>=1.0.1->tensorboard<2.15,>=2.14->tensorflow) (2.1.3)\n",
            "Requirement already satisfied: pyasn1<0.6.0,>=0.4.6 in /usr/local/lib/python3.10/dist-packages (from pyasn1-modules>=0.2.1->google-auth<3,>=1.6.3->tensorboard<2.15,>=2.14->tensorflow) (0.5.0)\n",
            "Requirement already satisfied: oauthlib>=3.0.0 in /usr/local/lib/python3.10/dist-packages (from requests-oauthlib>=0.7.0->google-auth-oauthlib<1.1,>=0.5->tensorboard<2.15,>=2.14->tensorflow) (3.2.2)\n"
          ]
        }
      ],
      "source": [
        "pip install tensorflow"
      ]
    },
    {
      "cell_type": "code",
      "source": [
        "import pandas as pd\n",
        "from sklearn.model_selection import train_test_split\n",
        "from sklearn.preprocessing import StandardScaler"
      ],
      "metadata": {
        "id": "duBxiqJ86Czo"
      },
      "execution_count": null,
      "outputs": []
    },
    {
      "cell_type": "code",
      "source": [
        "# Load and preprocess Data\n",
        "data = pd.read_csv('/content/sample_data/Salary_Data.csv')\n",
        "\n",
        "x = data.drop('YearsExperience', axis=1)\n",
        "y = data['Salary']\n",
        "\n",
        "scaler = StandardScaler()\n",
        "x = scaler.fit_transform(x)\n",
        "\n",
        "x_train, x_test, y_train, y_test = train_test_split(x, y, test_size=0.2, random_state = 42)"
      ],
      "metadata": {
        "id": "vCP8KQ_E6gfP"
      },
      "execution_count": null,
      "outputs": []
    },
    {
      "cell_type": "markdown",
      "source": [
        "Regression using Tensorflow"
      ],
      "metadata": {
        "id": "W7A3xBG7P5tS"
      }
    },
    {
      "cell_type": "code",
      "source": [
        "import tensorflow as tf"
      ],
      "metadata": {
        "id": "zCr17iOj89BK"
      },
      "execution_count": null,
      "outputs": []
    },
    {
      "cell_type": "code",
      "source": [
        "model = tf.keras.Sequential([\n",
        "    tf.keras.layers.Dense(64, activation = 'relu', input_shape=(x_train.shape[1],)),\n",
        "    tf.keras.layers.Dense(32, activation='relu'),\n",
        "    tf.keras.layers.Dense(1)\n",
        "])"
      ],
      "metadata": {
        "id": "7fA0lpnE9FGG"
      },
      "execution_count": null,
      "outputs": []
    },
    {
      "cell_type": "code",
      "source": [
        "model.compile(optimizer='adam', loss= 'mean_squared_error')\n",
        "\n",
        "model.fit(x_train, y_train, epochs=100, batch_size=32, validation_data=(x_test, y_test))\n"
      ],
      "metadata": {
        "colab": {
          "base_uri": "https://localhost:8080/"
        },
        "id": "PkrQy5CgAmFj",
        "outputId": "804b61d9-c048-46c9-cdab-660087c167c1"
      },
      "execution_count": null,
      "outputs": [
        {
          "output_type": "stream",
          "name": "stdout",
          "text": [
            "Epoch 1/100\n",
            "1/1 [==============================] - 1s 1s/step - loss: 6271090688.0000 - val_loss: 7430464000.0000\n",
            "Epoch 2/100\n",
            "1/1 [==============================] - 0s 45ms/step - loss: 6271087104.0000 - val_loss: 7430460928.0000\n",
            "Epoch 3/100\n",
            "1/1 [==============================] - 0s 37ms/step - loss: 6271084032.0000 - val_loss: 7430456832.0000\n",
            "Epoch 4/100\n",
            "1/1 [==============================] - 0s 43ms/step - loss: 6271079936.0000 - val_loss: 7430453760.0000\n",
            "Epoch 5/100\n",
            "1/1 [==============================] - 0s 41ms/step - loss: 6271076352.0000 - val_loss: 7430449664.0000\n",
            "Epoch 6/100\n",
            "1/1 [==============================] - 0s 42ms/step - loss: 6271072768.0000 - val_loss: 7430447104.0000\n",
            "Epoch 7/100\n",
            "1/1 [==============================] - 0s 39ms/step - loss: 6271068672.0000 - val_loss: 7430443008.0000\n",
            "Epoch 8/100\n",
            "1/1 [==============================] - 0s 56ms/step - loss: 6271066112.0000 - val_loss: 7430439424.0000\n",
            "Epoch 9/100\n",
            "1/1 [==============================] - 0s 48ms/step - loss: 6271062016.0000 - val_loss: 7430435328.0000\n",
            "Epoch 10/100\n",
            "1/1 [==============================] - 0s 44ms/step - loss: 6271059456.0000 - val_loss: 7430433280.0000\n",
            "Epoch 11/100\n",
            "1/1 [==============================] - 0s 42ms/step - loss: 6271055360.0000 - val_loss: 7430428672.0000\n",
            "Epoch 12/100\n",
            "1/1 [==============================] - 0s 44ms/step - loss: 6271051776.0000 - val_loss: 7430425088.0000\n",
            "Epoch 13/100\n",
            "1/1 [==============================] - 0s 40ms/step - loss: 6271048192.0000 - val_loss: 7430422016.0000\n",
            "Epoch 14/100\n",
            "1/1 [==============================] - 0s 34ms/step - loss: 6271044096.0000 - val_loss: 7430416896.0000\n",
            "Epoch 15/100\n",
            "1/1 [==============================] - 0s 34ms/step - loss: 6271040000.0000 - val_loss: 7430413824.0000\n",
            "Epoch 16/100\n",
            "1/1 [==============================] - 0s 36ms/step - loss: 6271035904.0000 - val_loss: 7430409728.0000\n",
            "Epoch 17/100\n",
            "1/1 [==============================] - 0s 35ms/step - loss: 6271032832.0000 - val_loss: 7430404608.0000\n",
            "Epoch 18/100\n",
            "1/1 [==============================] - 0s 38ms/step - loss: 6271027712.0000 - val_loss: 7430400512.0000\n",
            "Epoch 19/100\n",
            "1/1 [==============================] - 0s 34ms/step - loss: 6271023616.0000 - val_loss: 7430395904.0000\n",
            "Epoch 20/100\n",
            "1/1 [==============================] - 0s 33ms/step - loss: 6271019008.0000 - val_loss: 7430390272.0000\n",
            "Epoch 21/100\n",
            "1/1 [==============================] - 0s 33ms/step - loss: 6271014400.0000 - val_loss: 7430387200.0000\n",
            "Epoch 22/100\n",
            "1/1 [==============================] - 0s 37ms/step - loss: 6271010304.0000 - val_loss: 7430381568.0000\n",
            "Epoch 23/100\n",
            "1/1 [==============================] - 0s 33ms/step - loss: 6271005184.0000 - val_loss: 7430377472.0000\n",
            "Epoch 24/100\n",
            "1/1 [==============================] - 0s 38ms/step - loss: 6271000576.0000 - val_loss: 7430373376.0000\n",
            "Epoch 25/100\n",
            "1/1 [==============================] - 0s 35ms/step - loss: 6270995968.0000 - val_loss: 7430367744.0000\n",
            "Epoch 26/100\n",
            "1/1 [==============================] - 0s 34ms/step - loss: 6270990848.0000 - val_loss: 7430362624.0000\n",
            "Epoch 27/100\n",
            "1/1 [==============================] - 0s 32ms/step - loss: 6270986240.0000 - val_loss: 7430356992.0000\n",
            "Epoch 28/100\n",
            "1/1 [==============================] - 0s 38ms/step - loss: 6270981632.0000 - val_loss: 7430352896.0000\n",
            "Epoch 29/100\n",
            "1/1 [==============================] - 0s 36ms/step - loss: 6270976000.0000 - val_loss: 7430347264.0000\n",
            "Epoch 30/100\n",
            "1/1 [==============================] - 0s 33ms/step - loss: 6270970368.0000 - val_loss: 7430341120.0000\n",
            "Epoch 31/100\n",
            "1/1 [==============================] - 0s 33ms/step - loss: 6270965248.0000 - val_loss: 7430334976.0000\n",
            "Epoch 32/100\n",
            "1/1 [==============================] - 0s 35ms/step - loss: 6270959616.0000 - val_loss: 7430330368.0000\n",
            "Epoch 33/100\n",
            "1/1 [==============================] - 0s 33ms/step - loss: 6270953984.0000 - val_loss: 7430323712.0000\n",
            "Epoch 34/100\n",
            "1/1 [==============================] - 0s 37ms/step - loss: 6270948864.0000 - val_loss: 7430317568.0000\n",
            "Epoch 35/100\n",
            "1/1 [==============================] - 0s 43ms/step - loss: 6270942720.0000 - val_loss: 7430311936.0000\n",
            "Epoch 36/100\n",
            "1/1 [==============================] - 0s 36ms/step - loss: 6270936576.0000 - val_loss: 7430306304.0000\n",
            "Epoch 37/100\n",
            "1/1 [==============================] - 0s 43ms/step - loss: 6270930944.0000 - val_loss: 7430299648.0000\n",
            "Epoch 38/100\n",
            "1/1 [==============================] - 0s 40ms/step - loss: 6270924800.0000 - val_loss: 7430293504.0000\n",
            "Epoch 39/100\n",
            "1/1 [==============================] - 0s 39ms/step - loss: 6270918144.0000 - val_loss: 7430286848.0000\n",
            "Epoch 40/100\n",
            "1/1 [==============================] - 0s 42ms/step - loss: 6270912000.0000 - val_loss: 7430279680.0000\n",
            "Epoch 41/100\n",
            "1/1 [==============================] - 0s 46ms/step - loss: 6270904832.0000 - val_loss: 7430273024.0000\n",
            "Epoch 42/100\n",
            "1/1 [==============================] - 0s 41ms/step - loss: 6270898688.0000 - val_loss: 7430266368.0000\n",
            "Epoch 43/100\n",
            "1/1 [==============================] - 0s 51ms/step - loss: 6270891520.0000 - val_loss: 7430258688.0000\n",
            "Epoch 44/100\n",
            "1/1 [==============================] - 0s 43ms/step - loss: 6270885376.0000 - val_loss: 7430251008.0000\n",
            "Epoch 45/100\n",
            "1/1 [==============================] - 0s 43ms/step - loss: 6270877696.0000 - val_loss: 7430243840.0000\n",
            "Epoch 46/100\n",
            "1/1 [==============================] - 0s 45ms/step - loss: 6270869504.0000 - val_loss: 7430235648.0000\n",
            "Epoch 47/100\n",
            "1/1 [==============================] - 0s 43ms/step - loss: 6270862848.0000 - val_loss: 7430226432.0000\n",
            "Epoch 48/100\n",
            "1/1 [==============================] - 0s 43ms/step - loss: 6270854656.0000 - val_loss: 7430219264.0000\n",
            "Epoch 49/100\n",
            "1/1 [==============================] - 0s 42ms/step - loss: 6270846464.0000 - val_loss: 7430210048.0000\n",
            "Epoch 50/100\n",
            "1/1 [==============================] - 0s 42ms/step - loss: 6270838272.0000 - val_loss: 7430201856.0000\n",
            "Epoch 51/100\n",
            "1/1 [==============================] - 0s 42ms/step - loss: 6270830080.0000 - val_loss: 7430193152.0000\n",
            "Epoch 52/100\n",
            "1/1 [==============================] - 0s 40ms/step - loss: 6270820864.0000 - val_loss: 7430183424.0000\n",
            "Epoch 53/100\n",
            "1/1 [==============================] - 0s 50ms/step - loss: 6270812160.0000 - val_loss: 7430175232.0000\n",
            "Epoch 54/100\n",
            "1/1 [==============================] - 0s 44ms/step - loss: 6270802432.0000 - val_loss: 7430164480.0000\n",
            "Epoch 55/100\n",
            "1/1 [==============================] - 0s 46ms/step - loss: 6270793728.0000 - val_loss: 7430155776.0000\n",
            "Epoch 56/100\n",
            "1/1 [==============================] - 0s 44ms/step - loss: 6270784000.0000 - val_loss: 7430145536.0000\n",
            "Epoch 57/100\n",
            "1/1 [==============================] - 0s 46ms/step - loss: 6270775296.0000 - val_loss: 7430135808.0000\n",
            "Epoch 58/100\n",
            "1/1 [==============================] - 0s 46ms/step - loss: 6270764544.0000 - val_loss: 7430124032.0000\n",
            "Epoch 59/100\n",
            "1/1 [==============================] - 0s 43ms/step - loss: 6270754816.0000 - val_loss: 7430113280.0000\n",
            "Epoch 60/100\n",
            "1/1 [==============================] - 0s 37ms/step - loss: 6270744576.0000 - val_loss: 7430101504.0000\n",
            "Epoch 61/100\n",
            "1/1 [==============================] - 0s 37ms/step - loss: 6270732800.0000 - val_loss: 7430090752.0000\n",
            "Epoch 62/100\n",
            "1/1 [==============================] - 0s 37ms/step - loss: 6270722048.0000 - val_loss: 7430078976.0000\n",
            "Epoch 63/100\n",
            "1/1 [==============================] - 0s 38ms/step - loss: 6270711296.0000 - val_loss: 7430066176.0000\n",
            "Epoch 64/100\n",
            "1/1 [==============================] - 0s 35ms/step - loss: 6270699008.0000 - val_loss: 7430054400.0000\n",
            "Epoch 65/100\n",
            "1/1 [==============================] - 0s 35ms/step - loss: 6270687744.0000 - val_loss: 7430041600.0000\n",
            "Epoch 66/100\n",
            "1/1 [==============================] - 0s 37ms/step - loss: 6270675456.0000 - val_loss: 7430027776.0000\n",
            "Epoch 67/100\n",
            "1/1 [==============================] - 0s 41ms/step - loss: 6270663168.0000 - val_loss: 7430014464.0000\n",
            "Epoch 68/100\n",
            "1/1 [==============================] - 0s 40ms/step - loss: 6270649856.0000 - val_loss: 7430001152.0000\n",
            "Epoch 69/100\n",
            "1/1 [==============================] - 0s 38ms/step - loss: 6270637568.0000 - val_loss: 7429986816.0000\n",
            "Epoch 70/100\n",
            "1/1 [==============================] - 0s 39ms/step - loss: 6270624256.0000 - val_loss: 7429972480.0000\n",
            "Epoch 71/100\n",
            "1/1 [==============================] - 0s 36ms/step - loss: 6270609920.0000 - val_loss: 7429958144.0000\n",
            "Epoch 72/100\n",
            "1/1 [==============================] - 0s 34ms/step - loss: 6270596608.0000 - val_loss: 7429943296.0000\n",
            "Epoch 73/100\n",
            "1/1 [==============================] - 0s 35ms/step - loss: 6270582272.0000 - val_loss: 7429928448.0000\n",
            "Epoch 74/100\n",
            "1/1 [==============================] - 0s 35ms/step - loss: 6270567936.0000 - val_loss: 7429912576.0000\n",
            "Epoch 75/100\n",
            "1/1 [==============================] - 0s 36ms/step - loss: 6270552576.0000 - val_loss: 7429895680.0000\n",
            "Epoch 76/100\n",
            "1/1 [==============================] - 0s 38ms/step - loss: 6270537216.0000 - val_loss: 7429880320.0000\n",
            "Epoch 77/100\n",
            "1/1 [==============================] - 0s 39ms/step - loss: 6270521344.0000 - val_loss: 7429862912.0000\n",
            "Epoch 78/100\n",
            "1/1 [==============================] - 0s 38ms/step - loss: 6270506496.0000 - val_loss: 7429844992.0000\n",
            "Epoch 79/100\n",
            "1/1 [==============================] - 0s 37ms/step - loss: 6270489088.0000 - val_loss: 7429828608.0000\n",
            "Epoch 80/100\n",
            "1/1 [==============================] - 0s 43ms/step - loss: 6270473728.0000 - val_loss: 7429809664.0000\n",
            "Epoch 81/100\n",
            "1/1 [==============================] - 0s 41ms/step - loss: 6270455808.0000 - val_loss: 7429792256.0000\n",
            "Epoch 82/100\n",
            "1/1 [==============================] - 0s 38ms/step - loss: 6270437888.0000 - val_loss: 7429773312.0000\n",
            "Epoch 83/100\n",
            "1/1 [==============================] - 0s 39ms/step - loss: 6270420992.0000 - val_loss: 7429754368.0000\n",
            "Epoch 84/100\n",
            "1/1 [==============================] - 0s 35ms/step - loss: 6270402560.0000 - val_loss: 7429734400.0000\n",
            "Epoch 85/100\n",
            "1/1 [==============================] - 0s 36ms/step - loss: 6270384640.0000 - val_loss: 7429715456.0000\n",
            "Epoch 86/100\n",
            "1/1 [==============================] - 0s 38ms/step - loss: 6270365696.0000 - val_loss: 7429694976.0000\n",
            "Epoch 87/100\n",
            "1/1 [==============================] - 0s 37ms/step - loss: 6270346752.0000 - val_loss: 7429673472.0000\n",
            "Epoch 88/100\n",
            "1/1 [==============================] - 0s 36ms/step - loss: 6270327296.0000 - val_loss: 7429652480.0000\n",
            "Epoch 89/100\n",
            "1/1 [==============================] - 0s 38ms/step - loss: 6270306304.0000 - val_loss: 7429631488.0000\n",
            "Epoch 90/100\n",
            "1/1 [==============================] - 0s 36ms/step - loss: 6270286336.0000 - val_loss: 7429608960.0000\n",
            "Epoch 91/100\n",
            "1/1 [==============================] - 0s 37ms/step - loss: 6270265344.0000 - val_loss: 7429586432.0000\n",
            "Epoch 92/100\n",
            "1/1 [==============================] - 0s 36ms/step - loss: 6270244352.0000 - val_loss: 7429562880.0000\n",
            "Epoch 93/100\n",
            "1/1 [==============================] - 0s 35ms/step - loss: 6270222336.0000 - val_loss: 7429540352.0000\n",
            "Epoch 94/100\n",
            "1/1 [==============================] - 0s 38ms/step - loss: 6270200320.0000 - val_loss: 7429514752.0000\n",
            "Epoch 95/100\n",
            "1/1 [==============================] - 0s 36ms/step - loss: 6270177280.0000 - val_loss: 7429490688.0000\n",
            "Epoch 96/100\n",
            "1/1 [==============================] - 0s 34ms/step - loss: 6270154240.0000 - val_loss: 7429464576.0000\n",
            "Epoch 97/100\n",
            "1/1 [==============================] - 0s 40ms/step - loss: 6270130688.0000 - val_loss: 7429438976.0000\n",
            "Epoch 98/100\n",
            "1/1 [==============================] - 0s 37ms/step - loss: 6270106112.0000 - val_loss: 7429412352.0000\n",
            "Epoch 99/100\n",
            "1/1 [==============================] - 0s 39ms/step - loss: 6270081536.0000 - val_loss: 7429385728.0000\n",
            "Epoch 100/100\n",
            "1/1 [==============================] - 0s 40ms/step - loss: 6270055936.0000 - val_loss: 7429358080.0000\n"
          ]
        },
        {
          "output_type": "execute_result",
          "data": {
            "text/plain": [
              "<keras.src.callbacks.History at 0x7f8757b3f1c0>"
            ]
          },
          "metadata": {},
          "execution_count": 18
        }
      ]
    },
    {
      "cell_type": "code",
      "source": [
        "loss = model.evaluate(x_test, y_test)\n",
        "print(\"Mean Squared Error on test data:\", loss)\n"
      ],
      "metadata": {
        "colab": {
          "base_uri": "https://localhost:8080/"
        },
        "id": "iTyAq3C-BumH",
        "outputId": "d578720a-87a5-4bdb-b887-8058a780948f"
      },
      "execution_count": null,
      "outputs": [
        {
          "output_type": "stream",
          "name": "stdout",
          "text": [
            "1/1 [==============================] - 0s 25ms/step - loss: 7429358080.0000\n",
            "Mean Squared Error on test data: 7429358080.0\n"
          ]
        }
      ]
    },
    {
      "cell_type": "code",
      "source": [
        "y_pred = model.predict(x_test)\n",
        "print(\"Predicted Values:\", y_pred)"
      ],
      "metadata": {
        "colab": {
          "base_uri": "https://localhost:8080/"
        },
        "id": "K5tdLVkwCVJF",
        "outputId": "94021e49-3162-4756-9b60-10de5b74f4f0"
      },
      "execution_count": null,
      "outputs": [
        {
          "output_type": "stream",
          "name": "stdout",
          "text": [
            "1/1 [==============================] - 0s 97ms/step\n",
            "Predicted Values: [[8.669052 ]\n",
            " [4.508692 ]\n",
            " [8.866937 ]\n",
            " [4.4171185]\n",
            " [4.7991495]\n",
            " [5.7490573]]\n"
          ]
        }
      ]
    },
    {
      "cell_type": "markdown",
      "source": [
        "KNN using Tensorflow"
      ],
      "metadata": {
        "id": "Fopnew1hQB4a"
      }
    },
    {
      "cell_type": "code",
      "source": [
        "from sklearn.neighbors import KNeighborsRegressor\n",
        "\n",
        "knn = KNeighborsRegressor(n_neighbors=5)\n",
        "knn.fit(x_train, y_train)\n",
        "\n",
        "y_pred = knn.predict(x_test)\n",
        "y_pred = knn.predict(x_test)\n",
        "\n",
        "print(\"Predicted Values:\", y_pred)"
      ],
      "metadata": {
        "colab": {
          "base_uri": "https://localhost:8080/"
        },
        "id": "sA8jmSQGEN-v",
        "outputId": "47bb8cca-84ef-4d9d-db2b-1a70a71f0d01"
      },
      "execution_count": null,
      "outputs": [
        {
          "output_type": "stream",
          "name": "stdout",
          "text": [
            "Predicted Values: [115249.   61517.8 115249.   86268.6  61517.8  56183.8]\n"
          ]
        }
      ]
    },
    {
      "cell_type": "markdown",
      "source": [
        "K-Means using Tensorflow"
      ],
      "metadata": {
        "id": "AL06GsXlQInq"
      }
    },
    {
      "cell_type": "code",
      "source": [
        "import tensorflow as tf\n",
        "from tensorflow import keras\n",
        "from sklearn.cluster import KMeans"
      ],
      "metadata": {
        "id": "Qzsby3x2FE7b"
      },
      "execution_count": null,
      "outputs": []
    },
    {
      "cell_type": "code",
      "source": [
        "num_clusters = 3\n",
        "kmeans = KMeans(n_clusters=num_clusters, random_state=0)\n",
        "kmeans.fit(x)"
      ],
      "metadata": {
        "colab": {
          "base_uri": "https://localhost:8080/",
          "height": 129
        },
        "id": "oGZzEkMwFZMa",
        "outputId": "42aebdb1-c663-4acd-c047-3be2b31f875f"
      },
      "execution_count": null,
      "outputs": [
        {
          "output_type": "stream",
          "name": "stderr",
          "text": [
            "/usr/local/lib/python3.10/dist-packages/sklearn/cluster/_kmeans.py:870: FutureWarning: The default value of `n_init` will change from 10 to 'auto' in 1.4. Set the value of `n_init` explicitly to suppress the warning\n",
            "  warnings.warn(\n"
          ]
        },
        {
          "output_type": "execute_result",
          "data": {
            "text/plain": [
              "KMeans(n_clusters=3, random_state=0)"
            ],
            "text/html": [
              "<style>#sk-container-id-1 {color: black;background-color: white;}#sk-container-id-1 pre{padding: 0;}#sk-container-id-1 div.sk-toggleable {background-color: white;}#sk-container-id-1 label.sk-toggleable__label {cursor: pointer;display: block;width: 100%;margin-bottom: 0;padding: 0.3em;box-sizing: border-box;text-align: center;}#sk-container-id-1 label.sk-toggleable__label-arrow:before {content: \"▸\";float: left;margin-right: 0.25em;color: #696969;}#sk-container-id-1 label.sk-toggleable__label-arrow:hover:before {color: black;}#sk-container-id-1 div.sk-estimator:hover label.sk-toggleable__label-arrow:before {color: black;}#sk-container-id-1 div.sk-toggleable__content {max-height: 0;max-width: 0;overflow: hidden;text-align: left;background-color: #f0f8ff;}#sk-container-id-1 div.sk-toggleable__content pre {margin: 0.2em;color: black;border-radius: 0.25em;background-color: #f0f8ff;}#sk-container-id-1 input.sk-toggleable__control:checked~div.sk-toggleable__content {max-height: 200px;max-width: 100%;overflow: auto;}#sk-container-id-1 input.sk-toggleable__control:checked~label.sk-toggleable__label-arrow:before {content: \"▾\";}#sk-container-id-1 div.sk-estimator input.sk-toggleable__control:checked~label.sk-toggleable__label {background-color: #d4ebff;}#sk-container-id-1 div.sk-label input.sk-toggleable__control:checked~label.sk-toggleable__label {background-color: #d4ebff;}#sk-container-id-1 input.sk-hidden--visually {border: 0;clip: rect(1px 1px 1px 1px);clip: rect(1px, 1px, 1px, 1px);height: 1px;margin: -1px;overflow: hidden;padding: 0;position: absolute;width: 1px;}#sk-container-id-1 div.sk-estimator {font-family: monospace;background-color: #f0f8ff;border: 1px dotted black;border-radius: 0.25em;box-sizing: border-box;margin-bottom: 0.5em;}#sk-container-id-1 div.sk-estimator:hover {background-color: #d4ebff;}#sk-container-id-1 div.sk-parallel-item::after {content: \"\";width: 100%;border-bottom: 1px solid gray;flex-grow: 1;}#sk-container-id-1 div.sk-label:hover label.sk-toggleable__label {background-color: #d4ebff;}#sk-container-id-1 div.sk-serial::before {content: \"\";position: absolute;border-left: 1px solid gray;box-sizing: border-box;top: 0;bottom: 0;left: 50%;z-index: 0;}#sk-container-id-1 div.sk-serial {display: flex;flex-direction: column;align-items: center;background-color: white;padding-right: 0.2em;padding-left: 0.2em;position: relative;}#sk-container-id-1 div.sk-item {position: relative;z-index: 1;}#sk-container-id-1 div.sk-parallel {display: flex;align-items: stretch;justify-content: center;background-color: white;position: relative;}#sk-container-id-1 div.sk-item::before, #sk-container-id-1 div.sk-parallel-item::before {content: \"\";position: absolute;border-left: 1px solid gray;box-sizing: border-box;top: 0;bottom: 0;left: 50%;z-index: -1;}#sk-container-id-1 div.sk-parallel-item {display: flex;flex-direction: column;z-index: 1;position: relative;background-color: white;}#sk-container-id-1 div.sk-parallel-item:first-child::after {align-self: flex-end;width: 50%;}#sk-container-id-1 div.sk-parallel-item:last-child::after {align-self: flex-start;width: 50%;}#sk-container-id-1 div.sk-parallel-item:only-child::after {width: 0;}#sk-container-id-1 div.sk-dashed-wrapped {border: 1px dashed gray;margin: 0 0.4em 0.5em 0.4em;box-sizing: border-box;padding-bottom: 0.4em;background-color: white;}#sk-container-id-1 div.sk-label label {font-family: monospace;font-weight: bold;display: inline-block;line-height: 1.2em;}#sk-container-id-1 div.sk-label-container {text-align: center;}#sk-container-id-1 div.sk-container {/* jupyter's `normalize.less` sets `[hidden] { display: none; }` but bootstrap.min.css set `[hidden] { display: none !important; }` so we also need the `!important` here to be able to override the default hidden behavior on the sphinx rendered scikit-learn.org. See: https://github.com/scikit-learn/scikit-learn/issues/21755 */display: inline-block !important;position: relative;}#sk-container-id-1 div.sk-text-repr-fallback {display: none;}</style><div id=\"sk-container-id-1\" class=\"sk-top-container\"><div class=\"sk-text-repr-fallback\"><pre>KMeans(n_clusters=3, random_state=0)</pre><b>In a Jupyter environment, please rerun this cell to show the HTML representation or trust the notebook. <br />On GitHub, the HTML representation is unable to render, please try loading this page with nbviewer.org.</b></div><div class=\"sk-container\" hidden><div class=\"sk-item\"><div class=\"sk-estimator sk-toggleable\"><input class=\"sk-toggleable__control sk-hidden--visually\" id=\"sk-estimator-id-1\" type=\"checkbox\" checked><label for=\"sk-estimator-id-1\" class=\"sk-toggleable__label sk-toggleable__label-arrow\">KMeans</label><div class=\"sk-toggleable__content\"><pre>KMeans(n_clusters=3, random_state=0)</pre></div></div></div></div></div>"
            ]
          },
          "metadata": {},
          "execution_count": 25
        }
      ]
    },
    {
      "cell_type": "code",
      "source": [
        "cluster_assignments = kmeans.predict(x)\n",
        "print(\"Cluster Assignments:\", cluster_assignments)"
      ],
      "metadata": {
        "colab": {
          "base_uri": "https://localhost:8080/"
        },
        "id": "Zt3DNs8SF0AU",
        "outputId": "32ce1f44-eba3-408a-ad27-0f6d910385bd"
      },
      "execution_count": null,
      "outputs": [
        {
          "output_type": "stream",
          "name": "stdout",
          "text": [
            "Cluster Assignments: [0 0 0 0 0 0 0 0 0 0 0 0 0 0 0 0 0 2 2 2 2 2 2 1 1 1 1 1 1 1]\n"
          ]
        }
      ]
    }
  ]
}